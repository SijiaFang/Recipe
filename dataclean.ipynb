{
 "cells": [
  {
   "cell_type": "code",
   "execution_count": 1,
   "metadata": {},
   "outputs": [
    {
     "name": "stdout",
     "output_type": "stream",
     "text": [
      "  % Total    % Received % Xferd  Average Speed   Time    Time     Time  Current\n",
      "                                 Dload  Upload   Total   Spent    Left  Speed\n",
      "100  380M  100  380M    0     0   981k      0  0:06:37  0:06:37 --:--:-- 1010k  9 36.7M    0     0  1112k      0  0:05:50  0:00:33  0:05:17 1045k  0:06:24  0:02:04  0:04:20  967k   0  1012k      0  0:06:24  0:02:09  0:04:15  969k11k      0  0:06:25  0:02:11  0:04:14  978k  999k      0  0:06:29  0:02:21  0:04:08  748k    0   991k      0  0:06:33  0:02:31  0:04:02  920k0   986k      0  0:06:34  0:03:15  0:03:19  937k   0   983k      0  0:06:36  0:04:18  0:02:18  985k  0  0:06:36  0:05:55  0:00:41  989k\n"
     ]
    }
   ],
   "source": [
    "!curl http://data.csail.mit.edu/im2recipe/recipe1M_layers.tar.gz --output recipe1M_layers.tar.gz"
   ]
  },
  {
   "cell_type": "code",
   "execution_count": 2,
   "metadata": {},
   "outputs": [
    {
     "name": "stdout",
     "output_type": "stream",
     "text": [
      "Requirement already satisfied: tqdm in /Users/F970614/opt/anaconda3/lib/python3.7/site-packages (4.42.1)\n",
      "x layer1.json\n",
      "x layer2.json\n"
     ]
    }
   ],
   "source": [
    "!pip install tqdm\n",
    "!tar -xzvf recipe1M_layers.tar.gz\n",
    "!rm recipe1M_layers.tar.gz"
   ]
  },
  {
   "cell_type": "code",
   "execution_count": 13,
   "metadata": {},
   "outputs": [
    {
     "name": "stdout",
     "output_type": "stream",
     "text": [
      "Archive:  recipe-ingredients-dataset.zip\n",
      "  inflating: recipe-ingr/test.json   \n",
      "  inflating: recipe-ingr/train.json  \n"
     ]
    }
   ],
   "source": [
    "!unzip recipe-ingredients-dataset.zip -d recipe-ingr/\n",
    "!rm recipe-ingredients-dataset.zip"
   ]
  },
  {
   "cell_type": "code",
   "execution_count": 3,
   "metadata": {},
   "outputs": [],
   "source": [
    "import json\n",
    "from pprint import pprint\n",
    "from string import ascii_lowercase\n",
    "import random\n",
    "from tqdm import tqdm\n",
    "\n",
    "clean_ingredients = set()\n",
    "all_recipes = set()"
   ]
  },
  {
   "cell_type": "markdown",
   "metadata": {},
   "source": [
    "### Recipe Ingredient"
   ]
  },
  {
   "cell_type": "code",
   "execution_count": 14,
   "metadata": {},
   "outputs": [
    {
     "name": "stdout",
     "output_type": "stream",
     "text": [
      "{'cuisine': 'greek',\n",
      " 'id': 10259,\n",
      " 'ingredients': ['romaine lettuce',\n",
      "                 'black olives',\n",
      "                 'grape tomatoes',\n",
      "                 'garlic',\n",
      "                 'pepper',\n",
      "                 'purple onion',\n",
      "                 'seasoning',\n",
      "                 'garbanzo beans',\n",
      "                 'feta cheese crumbles']}\n"
     ]
    }
   ],
   "source": [
    "with open('recipe-ingr/train.json', 'rb') as f:\n",
    "    recipe_ingr_train = json.loads(f.read().decode(\"utf-8\"))\n",
    "with open('recipe-ingr/test.json', 'rb') as f:\n",
    "    recipe_ingr_test = json.loads(f.read().decode(\"utf-8\"))\n",
    "\n",
    "recipe_ingr = recipe_ingr_train + recipe_ingr_test\n",
    "pprint(recipe_ingr[0])"
   ]
  },
  {
   "cell_type": "code",
   "execution_count": 16,
   "metadata": {},
   "outputs": [],
   "source": [
    "for r in recipe_ingr:\n",
    "    clean_ingredients.update(r['ingredients'])\n",
    "recipe_ingr_recipes = {tuple(sorted([x.lower() for x in r['ingredients']])) for r in recipe_ingr}"
   ]
  },
  {
   "cell_type": "markdown",
   "metadata": {},
   "source": [
    "### Recipe1M"
   ]
  },
  {
   "cell_type": "code",
   "execution_count": 6,
   "metadata": {},
   "outputs": [],
   "source": [
    "with open('layer1.json', 'r') as f:\n",
    "    recipe1M_data = json.loads(f.read())"
   ]
  },
  {
   "cell_type": "code",
   "execution_count": 7,
   "metadata": {},
   "outputs": [],
   "source": [
    "recipe1M_recipes = []\n",
    "recipe1M_names = []\n",
    "recipe1M_id = []\n",
    "for r in recipe1M_data:\n",
    "    recipe1M_recipes.append(tuple(sorted([x['text'].lower() for x in r['ingredients']])))\n",
    "    recipe1M_names.append(r['title'])\n",
    "    recipe1M_id.append(r['id'])"
   ]
  },
  {
   "cell_type": "code",
   "execution_count": 12,
   "metadata": {},
   "outputs": [
    {
     "data": {
      "text/plain": [
       "('(makes about 4 cups)',\n",
       " '1 ounce cheddar, grated (1/4 cup)',\n",
       " '1 ounce gruyere cheese, grated (1/4 cup)',\n",
       " '1/2 teaspoon kosher salt',\n",
       " '1/3 cup all-purpose flour',\n",
       " '1/4 cup (1/2 stick) unsalted butter',\n",
       " '1/4 to 1/2 teaspoon chipotle chili powder',\n",
       " '1/4 to 1/2 teaspoon chipotle chili powder (see note)',\n",
       " '1/8 teaspoon garlic powder',\n",
       " '14 ounces semihard cheese (page 23), grated (about 3 1/2 cups)',\n",
       " '2 cups beechers flagship cheese sauce (recipe follows)',\n",
       " '2 ounces semisoft cheese (page 23), grated (1/2 cup)',\n",
       " '3 cups milk',\n",
       " '6 ounces penne')"
      ]
     },
     "execution_count": 12,
     "metadata": {},
     "output_type": "execute_result"
    }
   ],
   "source": [
    "recipe1M_recipes[0]"
   ]
  },
  {
   "cell_type": "code",
   "execution_count": 11,
   "metadata": {},
   "outputs": [
    {
     "data": {
      "text/plain": [
       "'Worlds Best Mac and Cheese'"
      ]
     },
     "execution_count": 11,
     "metadata": {},
     "output_type": "execute_result"
    }
   ],
   "source": [
    "recipe1M_names[0]"
   ]
  },
  {
   "cell_type": "markdown",
   "metadata": {},
   "source": [
    "### Clean"
   ]
  },
  {
   "cell_type": "code",
   "execution_count": 17,
   "metadata": {},
   "outputs": [],
   "source": [
    "def replace_units(s):\n",
    "    original_string = s\n",
    "    \n",
    "    tokens = s.replace('to taste', '').split()\n",
    "    units = ['ounce', 'ounces', 'cups', 'cup', 'teaspoon', 'tablespoon', 'tablespoons', 'teaspoons', 'c', 'g', 'v', 'tbsp', 'x', 'ml', 'lb', 'tbs', 'oz', 'pkg', 'large', 'small', 'tsp', 'inch', 'grams', 'quarts', 'lbs', 'can', 'cube', 'whole', 'or', 'pieces', 'piece', 'chopped', 'shredded', 'diced', 'fresh', 'crushed']\n",
    "    tokens_new = []\n",
    "    for t in tokens:\n",
    "        if t.strip() not in units:\n",
    "            tokens_new.append(t)\n",
    "            \n",
    "    #if original_string != ' '.join(tokens_new):\n",
    "    #    print(original_string, '--->', ' '.join(tokens_new))\n",
    "    \n",
    "    return ' '.join(tokens_new)\n",
    "    \n",
    "def cleanup_ingredient_list(l, remove_whitespace_variants):\n",
    "    l = {replace_units(''.join([char for char in x.lower().strip() if char in ascii_lowercase + ' ']).strip()) for x in l}\n",
    "    if not remove_whitespace_variants:\n",
    "        return l\n",
    "    \n",
    "    removal_mapping = dict()\n",
    "    remove_ingr = set()\n",
    "    for i in l:\n",
    "        without_whitespace = ''.join([char for char in i if char in ascii_lowercase])\n",
    "        if without_whitespace in l and i != without_whitespace:\n",
    "            remove_ingr.add(without_whitespace)\n",
    "            removal_mapping[without_whitespace] = i\n",
    "    l -= remove_ingr\n",
    "    #print('removed: ' + str(remove_ingr))\n",
    "    return l, removal_mapping"
   ]
  },
  {
   "cell_type": "code",
   "execution_count": 18,
   "metadata": {},
   "outputs": [],
   "source": [
    "messy_recipes = recipe1M_recipes\n",
    "clean_recipes = recipe_ingr_recipes"
   ]
  },
  {
   "cell_type": "code",
   "execution_count": 19,
   "metadata": {},
   "outputs": [
    {
     "name": "stderr",
     "output_type": "stream",
     "text": [
      "100%|██████████| 1029720/1029720 [02:37<00:00, 6549.52it/s]\n"
     ]
    }
   ],
   "source": [
    "clean_ingredients, whitespace_mapping = cleanup_ingredient_list(clean_ingredients, remove_whitespace_variants=True)\n",
    "\n",
    "new_messy_recipes = []\n",
    "for r in tqdm(messy_recipes):\n",
    "    new_messy_recipes.append(tuple(cleanup_ingredient_list(r, remove_whitespace_variants=False)))\n",
    "messy_recipes = new_messy_recipes"
   ]
  },
  {
   "cell_type": "code",
   "execution_count": 34,
   "metadata": {},
   "outputs": [
    {
     "data": {
      "text/plain": [
       "('sliced celery',\n",
       " 'vinegar',\n",
       " 'minced green pepper',\n",
       " 'mayonnaise possibly salad dressing',\n",
       " 'cubed american cheese',\n",
       " 'dry dill weed',\n",
       " 'salt',\n",
       " 'elbow macaroni',\n",
       " 'minced pimento')"
      ]
     },
     "execution_count": 34,
     "metadata": {},
     "output_type": "execute_result"
    }
   ],
   "source": [
    "messy_recipes[1]"
   ]
  },
  {
   "cell_type": "code",
   "execution_count": 35,
   "metadata": {},
   "outputs": [
    {
     "data": {
      "text/plain": [
       "1029720"
      ]
     },
     "execution_count": 35,
     "metadata": {},
     "output_type": "execute_result"
    }
   ],
   "source": [
    "recipe1M_recipes"
   ]
  },
  {
   "cell_type": "code",
   "execution_count": 27,
   "metadata": {},
   "outputs": [
    {
     "data": {
      "text/plain": [
       "{'gingerroot': 'ginger root',\n",
       " 'blackpepper': 'black pepper',\n",
       " 'mahimahi': 'mahi mahi',\n",
       " 'dillweed': 'dill weed',\n",
       " 'cornflour': 'corn flour',\n",
       " 'codfish': 'cod fish',\n",
       " 'poppyseeds': 'poppy seeds',\n",
       " 'peapods': 'pea pods',\n",
       " 'lemongrass': 'lemon grass',\n",
       " 'cornflakes': 'corn flakes',\n",
       " 'arrowroot': 'arrow root',\n",
       " 'wheatberries': 'wheat berries',\n",
       " 'ladyfingers': 'lady fingers',\n",
       " 'cuminseed': 'cumin seed',\n",
       " 'piecrust': 'pie crust',\n",
       " 'poundcake': 'pound cake',\n",
       " 'sugarcane': 'sugar cane',\n",
       " 'tatsoi': 'tat soi',\n",
       " 'shiromiso': 'shiro miso',\n",
       " 'rosewater': 'rose water',\n",
       " 'crabmeat': 'crab meat',\n",
       " 'cornbread': 'corn bread'}"
      ]
     },
     "execution_count": 27,
     "metadata": {},
     "output_type": "execute_result"
    }
   ],
   "source": [
    "whitespace_mapping"
   ]
  },
  {
   "cell_type": "code",
   "execution_count": 28,
   "metadata": {},
   "outputs": [],
   "source": [
    "new_messy_recipes = []\n",
    "for r in messy_recipes:\n",
    "    r_new = set()\n",
    "    for i in r:\n",
    "        if i in whitespace_mapping:\n",
    "            r_new.add(whitespace_mapping[i])\n",
    "        else:\n",
    "            r_new.add(i)\n",
    "    new_messy_recipes.append(tuple(r_new))\n",
    "messy_recipes = new_messy_recipes\n",
    "\n",
    "new_clean_recipes = []\n",
    "for r in clean_recipes:\n",
    "    r_new = set()\n",
    "    for i in r:\n",
    "        if i in whitespace_mapping:\n",
    "            r_new.add(whitespace_mapping[i])\n",
    "        else:\n",
    "            r_new.add(i)\n",
    "    new_clean_recipes.append(tuple(r_new))\n",
    "clean_recipes = new_clean_recipes"
   ]
  },
  {
   "cell_type": "markdown",
   "metadata": {},
   "source": [
    "### Save"
   ]
  },
  {
   "cell_type": "code",
   "execution_count": 33,
   "metadata": {},
   "outputs": [],
   "source": [
    "import pickle\n",
    "with open('data.pickle', 'wb+') as f:\n",
    "    pickle.dump({'clean_recipes': clean_recipes, 'messy_recipes': messy_recipes, 'messyname':recipe1M_names, 'messyid':recipe1M_id}, f)"
   ]
  }
 ],
 "metadata": {
  "kernelspec": {
   "display_name": "Python 3",
   "language": "python",
   "name": "python3"
  },
  "language_info": {
   "codemirror_mode": {
    "name": "ipython",
    "version": 3
   },
   "file_extension": ".py",
   "mimetype": "text/x-python",
   "name": "python",
   "nbconvert_exporter": "python",
   "pygments_lexer": "ipython3",
   "version": "3.7.6"
  }
 },
 "nbformat": 4,
 "nbformat_minor": 4
}
